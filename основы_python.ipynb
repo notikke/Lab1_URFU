{
  "cells": [
    {
      "cell_type": "markdown",
      "metadata": {
        "id": "M-DGa20PaHnu"
      },
      "source": [
        "#Задача 1\n",
        "Написать функцию на вход которой подается строка, состоящая из латинских букв.\n",
        "Функция должна вернуть количество гласных букв (a, e, i, o, u) в этой строке. Написать тесты для кода"
      ]
    },
    {
      "cell_type": "code",
      "execution_count": 7,
      "metadata": {
        "id": "XvX8X_JJ6PCb"
      },
      "outputs": [],
      "source": [
        "def count_vowels(string:str) -> int:\n",
        "    vowels = 'aeiou'\n",
        "    return sum(1 for char in string.lower() if char in vowels)\n",
        "\n",
        "def test_count_vowels():\n",
        "    assert count_vowels('') == 0\n",
        "    assert count_vowels('abcde') == 2\n",
        "    assert count_vowels('HELLO') == 2\n",
        "    assert count_vowels('Rhythm') == 0\n",
        "    assert count_vowels('RuIn') == 2\n",
        "    print('All test passed')\n",
        "\n",
        "test_count_vowels()"
      ]
    },
    {
      "cell_type": "markdown",
      "metadata": {
        "id": "t2ClV_Y0bbr6"
      },
      "source": [
        "# Задача 2\n",
        "Написать функцию на вход, которой подается строка. Функция должна вернуть true, если\n",
        "каждый символ в строке встречается только 1 раз, иначе должна вернуть false. Написать тесты для кода"
      ]
    },
    {
      "cell_type": "code",
      "execution_count": 6,
      "metadata": {
        "id": "FppbECao6VIz"
      },
      "outputs": [
        {
          "name": "stdout",
          "output_type": "stream",
          "text": [
            "All test passed\n"
          ]
        }
      ],
      "source": [
        "def is_unique(string:str) -> bool:\n",
        "    return len(string) == len(set(string))\n",
        "\n",
        "def test_is_unique():\n",
        "    assert is_unique('') == True\n",
        "    assert is_unique('abc') == True\n",
        "    assert is_unique('aabbcc') == False\n",
        "    assert is_unique('Jhone') == True\n",
        "    assert is_unique('py') == True\n",
        "    assert is_unique('123456') == True\n",
        "    assert is_unique('112233') == False\n",
        "    assert is_unique('URFU') == False\n",
        "    print('All test passed')\n",
        "\n",
        "test_is_unique()"
      ]
    },
    {
      "cell_type": "markdown",
      "metadata": {
        "id": "udRiIK1cdt6E"
      },
      "source": [
        "# Задача 3\n",
        "Написать функцию, которая принимает положительное число и возвращает количество\n",
        "бит равных 1 в этом числе. Написать тесты для кода"
      ]
    },
    {
      "cell_type": "code",
      "execution_count": 5,
      "metadata": {
        "id": "6tkfDJRz6dp_"
      },
      "outputs": [
        {
          "name": "stdout",
          "output_type": "stream",
          "text": [
            "All test passed\n"
          ]
        }
      ],
      "source": [
        "def one_bit_count(num:int) -> int:\n",
        "    return bin(num).count('1')\n",
        "\n",
        "def test_one_bit_count():\n",
        "    assert one_bit_count(0) == 0\n",
        "    assert one_bit_count(1) == 1\n",
        "    assert one_bit_count(2) == 1\n",
        "    assert one_bit_count(3) == 2\n",
        "    assert one_bit_count(4) == 1\n",
        "    print('All test passed')\n",
        "\n",
        "test_one_bit_count()"
      ]
    },
    {
      "cell_type": "markdown",
      "metadata": {
        "id": "26dDUz-Ae17N"
      },
      "source": [
        "# Задача 4\n",
        "Написать функцию, которая принимает положительное число. Функция должна вернуть то,\n",
        "сколько раз необходимо перемножать цифры числа или результат перемножения, чтобы\n",
        "получилось число состоящее из одной цифры.\n",
        "Например, для входного числа:\n",
        "· 39 функция должна вернуть 3, так как 3*9=27 => 2*7=14 => 1*4=4\n",
        "· 4 функция должна вернуть 0, так как число уже состоит из одной цифры\n",
        "· 999 функция должна вернуть 4, так как 9*9*9=729 => 7*2*9=126 => 1*2*6=12 =>\n",
        "1*2=2. Написать тесты для кода"
      ]
    },
    {
      "cell_type": "code",
      "execution_count": 12,
      "metadata": {
        "id": "BH1A_Mgi6i4G"
      },
      "outputs": [
        {
          "name": "stdout",
          "output_type": "stream",
          "text": [
            "All test passed\n"
          ]
        }
      ],
      "source": [
        "def magic(n:int) -> int:\n",
        "    count = 0\n",
        "    while n >= 10:\n",
        "        product = 1\n",
        "        while n > 0:\n",
        "            digit = n % 10\n",
        "            product *= digit\n",
        "            n = n // 10\n",
        "        n = product\n",
        "        count += 1\n",
        "    return count\n",
        "\n",
        "def test_magic():\n",
        "    assert magic(39) == 3\n",
        "    assert magic(999) == 4\n",
        "    assert magic(12) == 1\n",
        "    print('All test passed')\n",
        "\n",
        "test_magic()"
      ]
    },
    {
      "cell_type": "markdown",
      "metadata": {
        "id": "0nS-kIa8g8vd"
      },
      "source": [
        "# Задача 5\n",
        "Написать функцию, которая принимает два целочисленных вектора одинаковой длины и\n",
        "возвращает среднеквадратическое отклонение двух векторов. Написать тесты для кода"
      ]
    },
    {
      "cell_type": "code",
      "execution_count": 3,
      "metadata": {
        "id": "8iphx4LM6xbx"
      },
      "outputs": [],
      "source": [
        "import math\n",
        "\n",
        "def mse(pred:list, true:list):\n",
        "    if len(pred) != len(true):\n",
        "        return 'Векторы должны иметь одинаковую длину'\n",
        "    return math.sqrt(sum((a - b)**2 for a, b in zip(pred, true)) / len(pred))\n",
        "\n",
        "def test_mse():\n",
        "    assert math.isclose(mse([1, 2, 3], [1, 2, 3]), 0.0)\n",
        "    assert math.isclose(mse([1, 2, 3], [4, 5, 6]), 3.0)\n",
        "    assert math.isclose(mse([1, 1, 1], [2, 2, 2]), 1.0)\n",
        "    assert math.isclose(mse([1, 2, 3, 4], [1, 2, 3, 8]), 2.0)\n",
        "\n",
        "test_mse()"
      ]
    },
    {
      "cell_type": "markdown",
      "metadata": {
        "id": "vpIPKL439zkw"
      },
      "source": [
        "# Задача 6\n",
        "Написать функцию, принимающая целое положительное число. Функция должна вернуть\n",
        "строку вида “(n1 ** p1)(n2 ** p2)…(nk ** pk)” представляющая разложение числа на простые\n",
        "множители (если pi == 1, то выводить только ni).\n",
        "Например, для числа 86240 функция должна вернуть “(2**5)(5)(7**2)(11)”. Написать тесты для кода"
      ]
    },
    {
      "cell_type": "code",
      "execution_count": 2,
      "metadata": {
        "id": "pFebmcZk94Jw"
      },
      "outputs": [
        {
          "name": "stdout",
          "output_type": "stream",
          "text": [
            "(2**5)(5)(7**2)(11)\n",
            "(2**2)(3)\n",
            "(29)\n",
            "(2**2)(25)\n",
            "\n"
          ]
        }
      ],
      "source": [
        "def prime_factors(n:int) -> list[tuple]:\n",
        "    factors = []\n",
        "    i = 2\n",
        "    while i**2 < n:\n",
        "        if n % i:\n",
        "            i += 1\n",
        "        else:\n",
        "            n //= i\n",
        "            count = 1\n",
        "            while n % i == 0:\n",
        "                n //= i \n",
        "                count += 1\n",
        "            factors.append((i, count))\n",
        "    if n > 1:\n",
        "        factors.append((n, 1))\n",
        "    return factors\n",
        "\n",
        "def print_format_factors(factors:list[tuple]) -> str:\n",
        "    return ''.join('({}**{})'.format(p, e) if e > 1 else '({})'.format(p) for p, e in factors)\n",
        "\n",
        "def decompose_number(n:int) -> str:\n",
        "    factors = prime_factors(n)\n",
        "    return print_format_factors(factors)\n",
        "\n",
        "\n",
        "print(decompose_number(86240)) \n",
        "print(decompose_number(12))\n",
        "print(decompose_number(29))\n",
        "print(decompose_number(100)) \n",
        "print(decompose_number(1))"
      ]
    },
    {
      "cell_type": "markdown",
      "metadata": {
        "id": "ps2s0BudX7A2"
      },
      "source": [
        "# Задача 7\n",
        "Написать функцию, принимающая целое число n, задающее количество кубиков. Функция\n",
        "должна определить, можно ли из данного кол-ва кубиков построить пирамиду, то есть\n",
        "можно ли представить число n как 1^2+2^2+3^2+…+k^2. Если можно, то функция должна\n",
        "вернуть k, иначе строку “It is impossible”. Написать тесты для кода"
      ]
    },
    {
      "cell_type": "code",
      "execution_count": null,
      "metadata": {
        "id": "3YPjEXxhX_YT"
      },
      "outputs": [],
      "source": [
        "def pyramid(number:int) -> None:\n",
        "    k = 1\n",
        "    sum_squaters = 0\n",
        "    while k < number:\n",
        "        sum_squaters = k * (k + 1) * (2 * k + 1) / 6\n",
        "        if sum_squaters == number:\n",
        "            return k\n",
        "        k += 1\n",
        "    return 'It is impossible'\n",
        "\n",
        "print(pyramid(1))\n",
        "print(pyramid(5))\n",
        "print(pyramid(14))\n",
        "print(pyramid(30))\n",
        "print(pyramid(55))\n",
        "print(pyramid(91))"
      ]
    },
    {
      "cell_type": "markdown",
      "metadata": {
        "id": "KeKgmIdAQMEJ"
      },
      "source": [
        "# Задача 8\n",
        "Функция принимает на вход положительное число и определяет является ли оно сбалансированным, т.е. сумма цифр до средних равна сумме цифр после. Средними в случае нечетного числа цифр считать одну цифру, в случае четного - две средних. Написать тесты для кода"
      ]
    },
    {
      "cell_type": "code",
      "execution_count": 34,
      "metadata": {
        "id": "gMAAqtqlQrZt"
      },
      "outputs": [
        {
          "name": "stdout",
          "output_type": "stream",
          "text": [
            "All tests passed\n"
          ]
        }
      ],
      "source": [
        "def is_balanced(n):\n",
        "    str_n = str(n)\n",
        "    mid = len(str_n) // 2\n",
        "\n",
        "    left_sum = sum(map(int, str_n[:mid-1])) if len(str_n) % 2 == 0 else sum(map(int, str_n[:mid]))\n",
        "    right_sum = sum(map(int, str_n[mid+1:]))\n",
        "    return left_sum == right_sum\n",
        "\n",
        "\n",
        "\n",
        "def test_is_balanced():\n",
        "    assert is_balanced(1230) == False, \"Test case 1 failed\"\n",
        "    assert is_balanced(12321) == True, \"Test case 2 failed\"\n",
        "    assert is_balanced(1234) == False, \"Test case 3 failed\"\n",
        "    assert is_balanced(12345) == False, \"Test case 4 failed\"\n",
        "    assert is_balanced(1234321) == True, \"Test case 5 failed\"\n",
        "    assert is_balanced(123456) == False, \"Test case 6 failed\"\n",
        "    print('All tests passed')\n",
        "\n",
        "test_is_balanced()"
      ]
    }
  ],
  "metadata": {
    "colab": {
      "provenance": []
    },
    "kernelspec": {
      "display_name": "Python 3",
      "name": "python3"
    },
    "language_info": {
      "codemirror_mode": {
        "name": "ipython",
        "version": 3
      },
      "file_extension": ".py",
      "mimetype": "text/x-python",
      "name": "python",
      "nbconvert_exporter": "python",
      "pygments_lexer": "ipython3",
      "version": "3.12.5"
    }
  },
  "nbformat": 4,
  "nbformat_minor": 0
}
